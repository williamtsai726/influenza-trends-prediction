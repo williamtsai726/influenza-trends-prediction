{
 "cells": [
  {
   "cell_type": "code",
   "execution_count": 1,
   "id": "e58cd573",
   "metadata": {},
   "outputs": [],
   "source": [
    "import torch \n",
    "import numpy as np\n",
    "import matplotlib.pyplot as plt\n",
    "import pandas as pd\n",
    "from torch import nn"
   ]
  },
  {
   "cell_type": "code",
   "execution_count": 2,
   "id": "708a3184",
   "metadata": {},
   "outputs": [],
   "source": [
    "data = pd.read_csv('/Users/William/Desktop/中科院/project/WHO_NREVSS_Clinical_Labs.csv',header=1)"
   ]
  },
  {
   "cell_type": "code",
   "execution_count": 3,
   "id": "bb99c5da",
   "metadata": {},
   "outputs": [
    {
     "data": {
      "text/html": [
       "<div>\n",
       "<style scoped>\n",
       "    .dataframe tbody tr th:only-of-type {\n",
       "        vertical-align: middle;\n",
       "    }\n",
       "\n",
       "    .dataframe tbody tr th {\n",
       "        vertical-align: top;\n",
       "    }\n",
       "\n",
       "    .dataframe thead th {\n",
       "        text-align: right;\n",
       "    }\n",
       "</style>\n",
       "<table border=\"1\" class=\"dataframe\">\n",
       "  <thead>\n",
       "    <tr style=\"text-align: right;\">\n",
       "      <th></th>\n",
       "      <th>REGION TYPE</th>\n",
       "      <th>REGION</th>\n",
       "      <th>YEAR</th>\n",
       "      <th>WEEK</th>\n",
       "      <th>TOTAL SPECIMENS</th>\n",
       "      <th>TOTAL A</th>\n",
       "      <th>TOTAL B</th>\n",
       "      <th>PERCENT POSITIVE</th>\n",
       "      <th>PERCENT A</th>\n",
       "      <th>PERCENT B</th>\n",
       "    </tr>\n",
       "  </thead>\n",
       "  <tbody>\n",
       "    <tr>\n",
       "      <th>0</th>\n",
       "      <td>HHS Regions</td>\n",
       "      <td>Region 1</td>\n",
       "      <td>2015</td>\n",
       "      <td>40</td>\n",
       "      <td>693</td>\n",
       "      <td>2</td>\n",
       "      <td>3</td>\n",
       "      <td>0.721501</td>\n",
       "      <td>0.288600</td>\n",
       "      <td>0.432900</td>\n",
       "    </tr>\n",
       "    <tr>\n",
       "      <th>1</th>\n",
       "      <td>HHS Regions</td>\n",
       "      <td>Region 2</td>\n",
       "      <td>2015</td>\n",
       "      <td>40</td>\n",
       "      <td>1220</td>\n",
       "      <td>5</td>\n",
       "      <td>0</td>\n",
       "      <td>0.409836</td>\n",
       "      <td>0.409836</td>\n",
       "      <td>0.000000</td>\n",
       "    </tr>\n",
       "    <tr>\n",
       "      <th>2</th>\n",
       "      <td>HHS Regions</td>\n",
       "      <td>Region 3</td>\n",
       "      <td>2015</td>\n",
       "      <td>40</td>\n",
       "      <td>896</td>\n",
       "      <td>0</td>\n",
       "      <td>1</td>\n",
       "      <td>0.111607</td>\n",
       "      <td>0.000000</td>\n",
       "      <td>0.111607</td>\n",
       "    </tr>\n",
       "    <tr>\n",
       "      <th>3</th>\n",
       "      <td>HHS Regions</td>\n",
       "      <td>Region 4</td>\n",
       "      <td>2015</td>\n",
       "      <td>40</td>\n",
       "      <td>2486</td>\n",
       "      <td>24</td>\n",
       "      <td>16</td>\n",
       "      <td>1.609010</td>\n",
       "      <td>0.965406</td>\n",
       "      <td>0.643604</td>\n",
       "    </tr>\n",
       "    <tr>\n",
       "      <th>4</th>\n",
       "      <td>HHS Regions</td>\n",
       "      <td>Region 5</td>\n",
       "      <td>2015</td>\n",
       "      <td>40</td>\n",
       "      <td>2138</td>\n",
       "      <td>14</td>\n",
       "      <td>3</td>\n",
       "      <td>0.795136</td>\n",
       "      <td>0.654818</td>\n",
       "      <td>0.140318</td>\n",
       "    </tr>\n",
       "    <tr>\n",
       "      <th>...</th>\n",
       "      <td>...</td>\n",
       "      <td>...</td>\n",
       "      <td>...</td>\n",
       "      <td>...</td>\n",
       "      <td>...</td>\n",
       "      <td>...</td>\n",
       "      <td>...</td>\n",
       "      <td>...</td>\n",
       "      <td>...</td>\n",
       "      <td>...</td>\n",
       "    </tr>\n",
       "    <tr>\n",
       "      <th>1625</th>\n",
       "      <td>HHS Regions</td>\n",
       "      <td>Region 6</td>\n",
       "      <td>2018</td>\n",
       "      <td>46</td>\n",
       "      <td>2155</td>\n",
       "      <td>16</td>\n",
       "      <td>6</td>\n",
       "      <td>1.020880</td>\n",
       "      <td>0.742459</td>\n",
       "      <td>0.278422</td>\n",
       "    </tr>\n",
       "    <tr>\n",
       "      <th>1626</th>\n",
       "      <td>HHS Regions</td>\n",
       "      <td>Region 7</td>\n",
       "      <td>2018</td>\n",
       "      <td>46</td>\n",
       "      <td>735</td>\n",
       "      <td>3</td>\n",
       "      <td>0</td>\n",
       "      <td>0.408163</td>\n",
       "      <td>0.408163</td>\n",
       "      <td>0.000000</td>\n",
       "    </tr>\n",
       "    <tr>\n",
       "      <th>1627</th>\n",
       "      <td>HHS Regions</td>\n",
       "      <td>Region 8</td>\n",
       "      <td>2018</td>\n",
       "      <td>46</td>\n",
       "      <td>1135</td>\n",
       "      <td>12</td>\n",
       "      <td>1</td>\n",
       "      <td>1.145370</td>\n",
       "      <td>1.057270</td>\n",
       "      <td>0.088106</td>\n",
       "    </tr>\n",
       "    <tr>\n",
       "      <th>1628</th>\n",
       "      <td>HHS Regions</td>\n",
       "      <td>Region 9</td>\n",
       "      <td>2018</td>\n",
       "      <td>46</td>\n",
       "      <td>539</td>\n",
       "      <td>8</td>\n",
       "      <td>0</td>\n",
       "      <td>1.484230</td>\n",
       "      <td>1.484230</td>\n",
       "      <td>0.000000</td>\n",
       "    </tr>\n",
       "    <tr>\n",
       "      <th>1629</th>\n",
       "      <td>HHS Regions</td>\n",
       "      <td>Region 10</td>\n",
       "      <td>2018</td>\n",
       "      <td>46</td>\n",
       "      <td>1002</td>\n",
       "      <td>11</td>\n",
       "      <td>4</td>\n",
       "      <td>1.497010</td>\n",
       "      <td>1.097800</td>\n",
       "      <td>0.399202</td>\n",
       "    </tr>\n",
       "  </tbody>\n",
       "</table>\n",
       "<p>1630 rows × 10 columns</p>\n",
       "</div>"
      ],
      "text/plain": [
       "      REGION TYPE     REGION  YEAR  WEEK  TOTAL SPECIMENS  TOTAL A  TOTAL B  \\\n",
       "0     HHS Regions   Region 1  2015    40              693        2        3   \n",
       "1     HHS Regions   Region 2  2015    40             1220        5        0   \n",
       "2     HHS Regions   Region 3  2015    40              896        0        1   \n",
       "3     HHS Regions   Region 4  2015    40             2486       24       16   \n",
       "4     HHS Regions   Region 5  2015    40             2138       14        3   \n",
       "...           ...        ...   ...   ...              ...      ...      ...   \n",
       "1625  HHS Regions   Region 6  2018    46             2155       16        6   \n",
       "1626  HHS Regions   Region 7  2018    46              735        3        0   \n",
       "1627  HHS Regions   Region 8  2018    46             1135       12        1   \n",
       "1628  HHS Regions   Region 9  2018    46              539        8        0   \n",
       "1629  HHS Regions  Region 10  2018    46             1002       11        4   \n",
       "\n",
       "      PERCENT POSITIVE  PERCENT A  PERCENT B  \n",
       "0             0.721501   0.288600   0.432900  \n",
       "1             0.409836   0.409836   0.000000  \n",
       "2             0.111607   0.000000   0.111607  \n",
       "3             1.609010   0.965406   0.643604  \n",
       "4             0.795136   0.654818   0.140318  \n",
       "...                ...        ...        ...  \n",
       "1625          1.020880   0.742459   0.278422  \n",
       "1626          0.408163   0.408163   0.000000  \n",
       "1627          1.145370   1.057270   0.088106  \n",
       "1628          1.484230   1.484230   0.000000  \n",
       "1629          1.497010   1.097800   0.399202  \n",
       "\n",
       "[1630 rows x 10 columns]"
      ]
     },
     "execution_count": 3,
     "metadata": {},
     "output_type": "execute_result"
    }
   ],
   "source": [
    "data"
   ]
  },
  {
   "cell_type": "code",
   "execution_count": 4,
   "id": "dcac7450",
   "metadata": {},
   "outputs": [
    {
     "data": {
      "text/html": [
       "<div>\n",
       "<style scoped>\n",
       "    .dataframe tbody tr th:only-of-type {\n",
       "        vertical-align: middle;\n",
       "    }\n",
       "\n",
       "    .dataframe tbody tr th {\n",
       "        vertical-align: top;\n",
       "    }\n",
       "\n",
       "    .dataframe thead th {\n",
       "        text-align: right;\n",
       "    }\n",
       "</style>\n",
       "<table border=\"1\" class=\"dataframe\">\n",
       "  <thead>\n",
       "    <tr style=\"text-align: right;\">\n",
       "      <th></th>\n",
       "      <th>REGION</th>\n",
       "      <th>YEAR</th>\n",
       "      <th>WEEK</th>\n",
       "      <th>PERCENT POSITIVE</th>\n",
       "      <th>PERCENT A</th>\n",
       "      <th>PERCENT B</th>\n",
       "    </tr>\n",
       "  </thead>\n",
       "  <tbody>\n",
       "    <tr>\n",
       "      <th>0</th>\n",
       "      <td>Region 1</td>\n",
       "      <td>2015</td>\n",
       "      <td>40</td>\n",
       "      <td>0.721501</td>\n",
       "      <td>0.288600</td>\n",
       "      <td>0.432900</td>\n",
       "    </tr>\n",
       "    <tr>\n",
       "      <th>1</th>\n",
       "      <td>Region 2</td>\n",
       "      <td>2015</td>\n",
       "      <td>40</td>\n",
       "      <td>0.409836</td>\n",
       "      <td>0.409836</td>\n",
       "      <td>0.000000</td>\n",
       "    </tr>\n",
       "    <tr>\n",
       "      <th>2</th>\n",
       "      <td>Region 3</td>\n",
       "      <td>2015</td>\n",
       "      <td>40</td>\n",
       "      <td>0.111607</td>\n",
       "      <td>0.000000</td>\n",
       "      <td>0.111607</td>\n",
       "    </tr>\n",
       "    <tr>\n",
       "      <th>3</th>\n",
       "      <td>Region 4</td>\n",
       "      <td>2015</td>\n",
       "      <td>40</td>\n",
       "      <td>1.609010</td>\n",
       "      <td>0.965406</td>\n",
       "      <td>0.643604</td>\n",
       "    </tr>\n",
       "    <tr>\n",
       "      <th>4</th>\n",
       "      <td>Region 5</td>\n",
       "      <td>2015</td>\n",
       "      <td>40</td>\n",
       "      <td>0.795136</td>\n",
       "      <td>0.654818</td>\n",
       "      <td>0.140318</td>\n",
       "    </tr>\n",
       "    <tr>\n",
       "      <th>...</th>\n",
       "      <td>...</td>\n",
       "      <td>...</td>\n",
       "      <td>...</td>\n",
       "      <td>...</td>\n",
       "      <td>...</td>\n",
       "      <td>...</td>\n",
       "    </tr>\n",
       "    <tr>\n",
       "      <th>1625</th>\n",
       "      <td>Region 6</td>\n",
       "      <td>2018</td>\n",
       "      <td>46</td>\n",
       "      <td>1.020880</td>\n",
       "      <td>0.742459</td>\n",
       "      <td>0.278422</td>\n",
       "    </tr>\n",
       "    <tr>\n",
       "      <th>1626</th>\n",
       "      <td>Region 7</td>\n",
       "      <td>2018</td>\n",
       "      <td>46</td>\n",
       "      <td>0.408163</td>\n",
       "      <td>0.408163</td>\n",
       "      <td>0.000000</td>\n",
       "    </tr>\n",
       "    <tr>\n",
       "      <th>1627</th>\n",
       "      <td>Region 8</td>\n",
       "      <td>2018</td>\n",
       "      <td>46</td>\n",
       "      <td>1.145370</td>\n",
       "      <td>1.057270</td>\n",
       "      <td>0.088106</td>\n",
       "    </tr>\n",
       "    <tr>\n",
       "      <th>1628</th>\n",
       "      <td>Region 9</td>\n",
       "      <td>2018</td>\n",
       "      <td>46</td>\n",
       "      <td>1.484230</td>\n",
       "      <td>1.484230</td>\n",
       "      <td>0.000000</td>\n",
       "    </tr>\n",
       "    <tr>\n",
       "      <th>1629</th>\n",
       "      <td>Region 10</td>\n",
       "      <td>2018</td>\n",
       "      <td>46</td>\n",
       "      <td>1.497010</td>\n",
       "      <td>1.097800</td>\n",
       "      <td>0.399202</td>\n",
       "    </tr>\n",
       "  </tbody>\n",
       "</table>\n",
       "<p>1630 rows × 6 columns</p>\n",
       "</div>"
      ],
      "text/plain": [
       "         REGION  YEAR  WEEK  PERCENT POSITIVE  PERCENT A  PERCENT B\n",
       "0      Region 1  2015    40          0.721501   0.288600   0.432900\n",
       "1      Region 2  2015    40          0.409836   0.409836   0.000000\n",
       "2      Region 3  2015    40          0.111607   0.000000   0.111607\n",
       "3      Region 4  2015    40          1.609010   0.965406   0.643604\n",
       "4      Region 5  2015    40          0.795136   0.654818   0.140318\n",
       "...         ...   ...   ...               ...        ...        ...\n",
       "1625   Region 6  2018    46          1.020880   0.742459   0.278422\n",
       "1626   Region 7  2018    46          0.408163   0.408163   0.000000\n",
       "1627   Region 8  2018    46          1.145370   1.057270   0.088106\n",
       "1628   Region 9  2018    46          1.484230   1.484230   0.000000\n",
       "1629  Region 10  2018    46          1.497010   1.097800   0.399202\n",
       "\n",
       "[1630 rows x 6 columns]"
      ]
     },
     "execution_count": 4,
     "metadata": {},
     "output_type": "execute_result"
    }
   ],
   "source": [
    "data = data.drop(columns=['REGION TYPE','TOTAL SPECIMENS','TOTAL A','TOTAL B'])\n",
    "data"
   ]
  },
  {
   "cell_type": "code",
   "execution_count": 5,
   "id": "e54a25da",
   "metadata": {},
   "outputs": [
    {
     "data": {
      "text/html": [
       "<div>\n",
       "<style scoped>\n",
       "    .dataframe tbody tr th:only-of-type {\n",
       "        vertical-align: middle;\n",
       "    }\n",
       "\n",
       "    .dataframe tbody tr th {\n",
       "        vertical-align: top;\n",
       "    }\n",
       "\n",
       "    .dataframe thead th {\n",
       "        text-align: right;\n",
       "    }\n",
       "</style>\n",
       "<table border=\"1\" class=\"dataframe\">\n",
       "  <thead>\n",
       "    <tr style=\"text-align: right;\">\n",
       "      <th></th>\n",
       "      <th>REGION</th>\n",
       "      <th>YEAR</th>\n",
       "      <th>WEEK</th>\n",
       "      <th>PERCENT POSITIVE</th>\n",
       "      <th>PERCENT A</th>\n",
       "      <th>PERCENT B</th>\n",
       "    </tr>\n",
       "  </thead>\n",
       "  <tbody>\n",
       "    <tr>\n",
       "      <th>0</th>\n",
       "      <td>Region 1</td>\n",
       "      <td>2015</td>\n",
       "      <td>40</td>\n",
       "      <td>0.721501</td>\n",
       "      <td>0.288600</td>\n",
       "      <td>0.432900</td>\n",
       "    </tr>\n",
       "    <tr>\n",
       "      <th>10</th>\n",
       "      <td>Region 1</td>\n",
       "      <td>2015</td>\n",
       "      <td>41</td>\n",
       "      <td>1.994680</td>\n",
       "      <td>1.462770</td>\n",
       "      <td>0.531915</td>\n",
       "    </tr>\n",
       "    <tr>\n",
       "      <th>20</th>\n",
       "      <td>Region 1</td>\n",
       "      <td>2015</td>\n",
       "      <td>42</td>\n",
       "      <td>0.988701</td>\n",
       "      <td>0.564972</td>\n",
       "      <td>0.423729</td>\n",
       "    </tr>\n",
       "    <tr>\n",
       "      <th>30</th>\n",
       "      <td>Region 1</td>\n",
       "      <td>2015</td>\n",
       "      <td>43</td>\n",
       "      <td>0.279330</td>\n",
       "      <td>0.139665</td>\n",
       "      <td>0.139665</td>\n",
       "    </tr>\n",
       "    <tr>\n",
       "      <th>40</th>\n",
       "      <td>Region 1</td>\n",
       "      <td>2015</td>\n",
       "      <td>44</td>\n",
       "      <td>0.128041</td>\n",
       "      <td>0.000000</td>\n",
       "      <td>0.128041</td>\n",
       "    </tr>\n",
       "    <tr>\n",
       "      <th>...</th>\n",
       "      <td>...</td>\n",
       "      <td>...</td>\n",
       "      <td>...</td>\n",
       "      <td>...</td>\n",
       "      <td>...</td>\n",
       "      <td>...</td>\n",
       "    </tr>\n",
       "    <tr>\n",
       "      <th>1580</th>\n",
       "      <td>Region 1</td>\n",
       "      <td>2018</td>\n",
       "      <td>42</td>\n",
       "      <td>0.180180</td>\n",
       "      <td>0.180180</td>\n",
       "      <td>0.000000</td>\n",
       "    </tr>\n",
       "    <tr>\n",
       "      <th>1590</th>\n",
       "      <td>Region 1</td>\n",
       "      <td>2018</td>\n",
       "      <td>43</td>\n",
       "      <td>1.388890</td>\n",
       "      <td>1.041670</td>\n",
       "      <td>0.347222</td>\n",
       "    </tr>\n",
       "    <tr>\n",
       "      <th>1600</th>\n",
       "      <td>Region 1</td>\n",
       "      <td>2018</td>\n",
       "      <td>44</td>\n",
       "      <td>1.876470</td>\n",
       "      <td>1.485540</td>\n",
       "      <td>0.390930</td>\n",
       "    </tr>\n",
       "    <tr>\n",
       "      <th>1610</th>\n",
       "      <td>Region 1</td>\n",
       "      <td>2018</td>\n",
       "      <td>45</td>\n",
       "      <td>1.971610</td>\n",
       "      <td>1.971610</td>\n",
       "      <td>0.000000</td>\n",
       "    </tr>\n",
       "    <tr>\n",
       "      <th>1620</th>\n",
       "      <td>Region 1</td>\n",
       "      <td>2018</td>\n",
       "      <td>46</td>\n",
       "      <td>1.198800</td>\n",
       "      <td>0.799201</td>\n",
       "      <td>0.399600</td>\n",
       "    </tr>\n",
       "  </tbody>\n",
       "</table>\n",
       "<p>163 rows × 6 columns</p>\n",
       "</div>"
      ],
      "text/plain": [
       "        REGION  YEAR  WEEK  PERCENT POSITIVE  PERCENT A  PERCENT B\n",
       "0     Region 1  2015    40          0.721501   0.288600   0.432900\n",
       "10    Region 1  2015    41          1.994680   1.462770   0.531915\n",
       "20    Region 1  2015    42          0.988701   0.564972   0.423729\n",
       "30    Region 1  2015    43          0.279330   0.139665   0.139665\n",
       "40    Region 1  2015    44          0.128041   0.000000   0.128041\n",
       "...        ...   ...   ...               ...        ...        ...\n",
       "1580  Region 1  2018    42          0.180180   0.180180   0.000000\n",
       "1590  Region 1  2018    43          1.388890   1.041670   0.347222\n",
       "1600  Region 1  2018    44          1.876470   1.485540   0.390930\n",
       "1610  Region 1  2018    45          1.971610   1.971610   0.000000\n",
       "1620  Region 1  2018    46          1.198800   0.799201   0.399600\n",
       "\n",
       "[163 rows x 6 columns]"
      ]
     },
     "execution_count": 5,
     "metadata": {},
     "output_type": "execute_result"
    }
   ],
   "source": [
    "reg1 = data.loc[data['REGION']=='Region 1',:]\n",
    "reg1"
   ]
  },
  {
   "cell_type": "code",
   "execution_count": 6,
   "id": "12142638",
   "metadata": {},
   "outputs": [],
   "source": [
    "y=data['PERCENT POSITIVE'].values"
   ]
  },
  {
   "cell_type": "code",
   "execution_count": 7,
   "id": "10a3d9ac",
   "metadata": {},
   "outputs": [
    {
     "data": {
      "text/plain": [
       "[<matplotlib.lines.Line2D at 0x7f84364ee430>]"
      ]
     },
     "execution_count": 7,
     "metadata": {},
     "output_type": "execute_result"
    },
    {
     "data": {
      "image/png": "[encoded data removed]",
      "text/plain": [
       "<Figure size 432x288 with 1 Axes>"
      ]
     },
     "metadata": {
      "needs_background": "light"
     },
     "output_type": "display_data"
    }
   ],
   "source": [
    "plt.plot(range(0,1630),y)"
   ]
  },
  {
   "cell_type": "code",
   "execution_count": 8,
   "id": "32c37a8f",
   "metadata": {},
   "outputs": [],
   "source": [
    "y=y.astype('float32')"
   ]
  },
  {
   "cell_type": "code",
   "execution_count": 9,
   "id": "b9daf1d0",
   "metadata": {},
   "outputs": [],
   "source": [
    "y_max = np.max(y)\n",
    "norm_data = []\n",
    "for i in y:\n",
    "    i = i/y_max\n",
    "    norm_data.append(i)"
   ]
  },
  {
   "cell_type": "code",
   "execution_count": 10,
   "id": "246c6cdd",
   "metadata": {},
   "outputs": [
    {
     "data": {
      "text/plain": [
       "array([0.02011484, 0.01142588, 0.00311151, ..., 0.03193194, 0.04137907,\n",
       "       0.04173537], dtype=float32)"
      ]
     },
     "execution_count": 10,
     "metadata": {},
     "output_type": "execute_result"
    }
   ],
   "source": [
    "np.array(norm_data)"
   ]
  },
  {
   "cell_type": "code",
   "execution_count": 11,
   "id": "d7109a8d",
   "metadata": {},
   "outputs": [],
   "source": [
    "def dataset(data,lookback=5):\n",
    "    trainx = []\n",
    "    trainy = []\n",
    "    for i in range(0,len(data)-lookback):\n",
    "        trainx.append(data[i:(i+lookback)])\n",
    "        trainy.append(data[i+lookback])\n",
    "    return np.array(trainx) , np.array(trainy)"
   ]
  },
  {
   "cell_type": "code",
   "execution_count": 12,
   "id": "d06c24c5",
   "metadata": {},
   "outputs": [],
   "source": [
    "trainx, trainy = dataset(norm_data)"
   ]
  },
  {
   "cell_type": "code",
   "execution_count": 13,
   "id": "c36d337d",
   "metadata": {},
   "outputs": [
    {
     "data": {
      "text/plain": [
       "1625"
      ]
     },
     "execution_count": 13,
     "metadata": {},
     "output_type": "execute_result"
    }
   ],
   "source": [
    "len(trainx)"
   ]
  },
  {
   "cell_type": "code",
   "execution_count": 14,
   "id": "d074513c",
   "metadata": {},
   "outputs": [
    {
     "data": {
      "text/plain": [
       "1625"
      ]
     },
     "execution_count": 14,
     "metadata": {},
     "output_type": "execute_result"
    }
   ],
   "source": [
    "len(trainy)"
   ]
  },
  {
   "cell_type": "code",
   "execution_count": 15,
   "id": "81b30709",
   "metadata": {},
   "outputs": [],
   "source": [
    "train_size = int(len(norm_data)*0.81)\n",
    "train1 = trainx[:train_size]\n",
    "testx = trainx[train_size:]\n",
    "trainy = trainy[:train_size]"
   ]
  },
  {
   "cell_type": "code",
   "execution_count": 16,
   "id": "63d21c38",
   "metadata": {},
   "outputs": [],
   "source": [
    "train1 = train1.reshape(-1,1,5)"
   ]
  },
  {
   "cell_type": "code",
   "execution_count": 17,
   "id": "3213f55c",
   "metadata": {},
   "outputs": [],
   "source": [
    "trainy = trainy.reshape(-1,1,1)"
   ]
  },
  {
   "cell_type": "code",
   "execution_count": 18,
   "id": "be97b194",
   "metadata": {},
   "outputs": [
    {
     "data": {
      "text/plain": [
       "tensor([[[0.]],\n",
       "\n",
       "        [[0.]],\n",
       "\n",
       "        [[0.]],\n",
       "\n",
       "        ...,\n",
       "\n",
       "        [[0.]],\n",
       "\n",
       "        [[0.]],\n",
       "\n",
       "        [[0.]]])"
      ]
     },
     "execution_count": 18,
     "metadata": {},
     "output_type": "execute_result"
    }
   ],
   "source": [
    "train1=torch.from_numpy(train1)\n",
    "trainy=torch.from_numpy(trainy)\n",
    "from torch.autograd import Variable\n",
    "train1 = Variable(train1)\n",
    "trainy - Variable(trainy)"
   ]
  },
  {
   "cell_type": "code",
   "execution_count": 19,
   "id": "f5cb19de",
   "metadata": {},
   "outputs": [],
   "source": [
    "class lstm_reg(nn.Module):\n",
    "    def __init__(self, input_size = 5,output_size = 1,hidden_size = 10, num_layers = 4):\n",
    "        super(lstm_reg, self).__init__()\n",
    "        self.lstm = nn.LSTM(input_size,hidden_size,num_layers)\n",
    "        self.linear = nn.Linear(hidden_size,output_size)\n",
    "    def forward(self,x):\n",
    "        pred,h=self.lstm(x)\n",
    "        a,b,c=pred.shape\n",
    "        h = pred.view(a*b,c)\n",
    "        out = self.linear(h)\n",
    "        out = out.view(a,b,-1)\n",
    "        return out"
   ]
  },
  {
   "cell_type": "code",
   "execution_count": 20,
   "id": "5db1964a",
   "metadata": {},
   "outputs": [],
   "source": [
    "from torch.optim.rmsprop import RMSprop\n",
    "model = lstm_reg()\n",
    "optimizer=torch.optim.Adam(model.parameters(), lr=1e-2)\n",
    "criterion = torch.nn.MSELoss()"
   ]
  },
  {
   "cell_type": "code",
   "execution_count": 21,
   "id": "8af3cc89",
   "metadata": {},
   "outputs": [
    {
     "name": "stdout",
     "output_type": "stream",
     "text": [
      "lstm_reg(\n",
      "  (lstm): LSTM(5, 10, num_layers=4)\n",
      "  (linear): Linear(in_features=10, out_features=1, bias=True)\n",
      ")\n"
     ]
    }
   ],
   "source": [
    "print(model)"
   ]
  },
  {
   "cell_type": "code",
   "execution_count": 22,
   "id": "16711141",
   "metadata": {
    "scrolled": true
   },
   "outputs": [
    {
     "name": "stdout",
     "output_type": "stream",
     "text": [
      "Epoch: 100, Loss: 0.01003\n",
      "Epoch: 200, Loss: 0.00687\n",
      "Epoch: 300, Loss: 0.00663\n",
      "Epoch: 400, Loss: 0.00636\n",
      "Epoch: 500, Loss: 0.00588\n",
      "Epoch: 600, Loss: 0.00575\n",
      "Epoch: 700, Loss: 0.00489\n",
      "Epoch: 800, Loss: 0.00525\n",
      "Epoch: 900, Loss: 0.00359\n",
      "Epoch: 1000, Loss: 0.00246\n"
     ]
    }
   ],
   "source": [
    "for i in range(300):\n",
    "    out=model(train1)\n",
    "    loss = criterion(out, trainy)\n",
    "    optimizer.zero_grad()\n",
    "    loss.backward()\n",
    "    optimizer.step()\n",
    "    if (i+1)%100 == 0 :\n",
    "        print('Epoch: {}, Loss: {:.5f}'.format(i + 1, loss.data))"
   ]
  },
  {
   "cell_type": "code",
   "execution_count": 23,
   "id": "8d5567dd",
   "metadata": {},
   "outputs": [],
   "source": [
    "model = model.eval()"
   ]
  },
  {
   "cell_type": "code",
   "execution_count": 24,
   "id": "c0062aaa",
   "metadata": {},
   "outputs": [],
   "source": [
    "test = trainx.reshape(-1,1,5)\n",
    "test = torch.from_numpy(test)\n",
    "test = Variable(test)"
   ]
  },
  {
   "cell_type": "code",
   "execution_count": 25,
   "id": "413a7f7b",
   "metadata": {},
   "outputs": [
    {
     "data": {
      "text/plain": [
       "1625"
      ]
     },
     "execution_count": 25,
     "metadata": {},
     "output_type": "execute_result"
    }
   ],
   "source": [
    "len(test)"
   ]
  },
  {
   "cell_type": "code",
   "execution_count": 26,
   "id": "0e41a9ed",
   "metadata": {},
   "outputs": [],
   "source": [
    "prediction = model(test)\n",
    "prediction = prediction.view(-1).data.numpy()"
   ]
  },
  {
   "cell_type": "code",
   "execution_count": 27,
   "id": "a0270970",
   "metadata": {},
   "outputs": [
    {
     "data": {
      "text/plain": [
       "<matplotlib.legend.Legend at 0x7f84367d6430>"
      ]
     },
     "execution_count": 27,
     "metadata": {},
     "output_type": "execute_result"
    },
    {
     "data": {
      "image/png": "[encoded data removed]",
      "text/plain": [
       "<Figure size 432x288 with 1 Axes>"
      ]
     },
     "metadata": {
      "needs_background": "light"
     },
     "output_type": "display_data"
    }
   ],
   "source": [
    "plt.plot(prediction, 'r', label='prediction')\n",
    "plt.legend()"
   ]
  },
  {
   "cell_type": "code",
   "execution_count": 28,
   "id": "24498785",
   "metadata": {},
   "outputs": [
    {
     "data": {
      "text/plain": [
       "<matplotlib.legend.Legend at 0x7f841d6229a0>"
      ]
     },
     "execution_count": 28,
     "metadata": {},
     "output_type": "execute_result"
    },
    {
     "data": {
      "image/png": "[encoded data removed]",
      "text/plain": [
       "<Figure size 432x288 with 1 Axes>"
      ]
     },
     "metadata": {
      "needs_background": "light"
     },
     "output_type": "display_data"
    }
   ],
   "source": [
    "plt.plot(norm_data, 'b', label='real')\n",
    "plt.legend()"
   ]
  },
  {
   "cell_type": "code",
   "execution_count": 29,
   "id": "938ed98f",
   "metadata": {},
   "outputs": [
    {
     "data": {
      "text/plain": [
       "<matplotlib.legend.Legend at 0x7f841dabd190>"
      ]
     },
     "execution_count": 29,
     "metadata": {},
     "output_type": "execute_result"
    },
    {
     "data": {
      "image/png": "[encoded data removed]",
      "text/plain": [
       "<Figure size 432x288 with 1 Axes>"
      ]
     },
     "metadata": {
      "needs_background": "light"
     },
     "output_type": "display_data"
    }
   ],
   "source": [
    "plt.plot(prediction, 'r', label='prediction')\n",
    "plt.plot(norm_data, 'b', label='real')\n",
    "plt.legend()"
   ]
  },
  {
   "cell_type": "code",
   "execution_count": 63,
   "id": "6f0e6b91",
   "metadata": {},
   "outputs": [],
   "source": [
    "from sklearn.metrics import mean_absolute_error\n",
    "diff = mean_absolute_error(norm_data[5:],prediction)"
   ]
  },
  {
   "cell_type": "code",
   "execution_count": 64,
   "id": "d8077241",
   "metadata": {},
   "outputs": [
    {
     "data": {
      "text/plain": [
       "0.032440107"
      ]
     },
     "execution_count": 64,
     "metadata": {},
     "output_type": "execute_result"
    }
   ],
   "source": [
    "diff"
   ]
  },
  {
   "cell_type": "code",
   "execution_count": 65,
   "id": "7a116705",
   "metadata": {},
   "outputs": [],
   "source": [
    "#RNN\n",
    "class RNN_reg(nn.Module):\n",
    "    def __init__(self, input_size = 5,output_size = 1,hidden_size = 10, num_layers = 4):\n",
    "        super(RNN_reg, self).__init__()\n",
    "        self.RNN = nn.RNN(input_size,hidden_size,num_layers)\n",
    "        self.linear = nn.Linear(hidden_size,output_size)\n",
    "    def forward(self,x):\n",
    "        pred,h=self.RNN(x)\n",
    "        a,b,c=pred.shape\n",
    "        h = pred.view(a*b,c)\n",
    "        out = self.linear(h)\n",
    "        out = out.view(a,b,-1)\n",
    "        return out"
   ]
  },
  {
   "cell_type": "code",
   "execution_count": 66,
   "id": "147a927d",
   "metadata": {},
   "outputs": [],
   "source": [
    "from torch.optim.rmsprop import RMSprop\n",
    "model = RNN_reg()\n",
    "optimizer=torch.optim.Adam(model.parameters(), lr=1e-2)\n",
    "criterion = torch.nn.MSELoss()"
   ]
  },
  {
   "cell_type": "code",
   "execution_count": 67,
   "id": "33164025",
   "metadata": {},
   "outputs": [
    {
     "name": "stdout",
     "output_type": "stream",
     "text": [
      "Epoch: 100, Loss: 0.00282\n",
      "Epoch: 200, Loss: 0.00217\n",
      "Epoch: 300, Loss: 0.00206\n"
     ]
    }
   ],
   "source": [
    "for i in range(300):\n",
    "    out=model(train1)\n",
    "    loss = criterion(out, trainy)\n",
    "    optimizer.zero_grad()\n",
    "    loss.backward()\n",
    "    optimizer.step()\n",
    "    if (i+1)%100 == 0 :\n",
    "        print('Epoch: {}, Loss: {:.5f}'.format(i + 1, loss.data))"
   ]
  },
  {
   "cell_type": "code",
   "execution_count": 68,
   "id": "e4c1dcb1",
   "metadata": {},
   "outputs": [],
   "source": [
    "model = model.eval()\n",
    "prediction = model(test)\n",
    "prediction = prediction.view(-1).data.numpy()"
   ]
  },
  {
   "cell_type": "code",
   "execution_count": 69,
   "id": "249c02b1",
   "metadata": {},
   "outputs": [
    {
     "data": {
      "text/plain": [
       "0.028342333"
      ]
     },
     "execution_count": 69,
     "metadata": {},
     "output_type": "execute_result"
    }
   ],
   "source": [
    "from sklearn.metrics import mean_absolute_error\n",
    "diff = mean_absolute_error(norm_data[5:],prediction)\n",
    "diff"
   ]
  },
  {
   "cell_type": "code",
   "execution_count": 70,
   "id": "9855c9e6",
   "metadata": {},
   "outputs": [
    {
     "data": {
      "text/plain": [
       "<matplotlib.legend.Legend at 0x7f8423578460>"
      ]
     },
     "execution_count": 70,
     "metadata": {},
     "output_type": "execute_result"
    },
    {
     "data": {
      "image/png": "[encoded data removed]",
      "text/plain": [
       "<Figure size 432x288 with 1 Axes>"
      ]
     },
     "metadata": {
      "needs_background": "light"
     },
     "output_type": "display_data"
    }
   ],
   "source": [
    "plt.plot(prediction, 'r', label='prediction')\n",
    "plt.plot(norm_data, 'b', label='real')\n",
    "plt.legend()"
   ]
  },
  {
   "cell_type": "code",
   "execution_count": 71,
   "id": "a7666366",
   "metadata": {},
   "outputs": [],
   "source": [
    "#RNN\n",
    "class GRU_reg(nn.Module):\n",
    "    def __init__(self, input_size = 5,output_size = 1,hidden_size = 10, num_layers = 4):\n",
    "        super(GRU_reg, self).__init__()\n",
    "        self.GRU = nn.GRU(input_size,hidden_size,num_layers)\n",
    "        self.linear = nn.Linear(hidden_size,output_size)\n",
    "    def forward(self,x):\n",
    "        pred,h=self.GRU(x)\n",
    "        a,b,c=pred.shape\n",
    "        h = pred.view(a*b,c)\n",
    "        out = self.linear(h)\n",
    "        out = out.view(a,b,-1)\n",
    "        return out"
   ]
  },
  {
   "cell_type": "code",
   "execution_count": 72,
   "id": "ec08c45c",
   "metadata": {},
   "outputs": [],
   "source": [
    "from torch.optim.rmsprop import RMSprop\n",
    "model = GRU_reg()\n",
    "optimizer=torch.optim.Adam(model.parameters(), lr=1e-2)\n",
    "criterion = torch.nn.MSELoss()"
   ]
  },
  {
   "cell_type": "code",
   "execution_count": 73,
   "id": "0f7ed19d",
   "metadata": {},
   "outputs": [
    {
     "name": "stdout",
     "output_type": "stream",
     "text": [
      "Epoch: 100, Loss: 0.00885\n",
      "Epoch: 200, Loss: 0.00640\n",
      "Epoch: 300, Loss: 0.00576\n"
     ]
    }
   ],
   "source": [
    "for i in range(300):\n",
    "    out=model(train1)\n",
    "    loss = criterion(out, trainy)\n",
    "    optimizer.zero_grad()\n",
    "    loss.backward()\n",
    "    optimizer.step()\n",
    "    if (i+1)%100 == 0 :\n",
    "        print('Epoch: {}, Loss: {:.5f}'.format(i + 1, loss.data))"
   ]
  },
  {
   "cell_type": "code",
   "execution_count": 75,
   "id": "3271c46d",
   "metadata": {},
   "outputs": [
    {
     "data": {
      "text/plain": [
       "0.048262272"
      ]
     },
     "execution_count": 75,
     "metadata": {},
     "output_type": "execute_result"
    }
   ],
   "source": [
    "model = model.eval()\n",
    "prediction = model(test)\n",
    "prediction = prediction.view(-1).data.numpy()\n",
    "from sklearn.metrics import mean_absolute_error\n",
    "diff = mean_absolute_error(norm_data[5:],prediction)\n",
    "diff"
   ]
  },
  {
   "cell_type": "code",
   "execution_count": 76,
   "id": "12741aa1",
   "metadata": {},
   "outputs": [
    {
     "data": {
      "text/plain": [
       "<matplotlib.legend.Legend at 0x7f841dbe02e0>"
      ]
     },
     "execution_count": 76,
     "metadata": {},
     "output_type": "execute_result"
    },
    {
     "data": {
      "image/png": "[encoded data removed]",
      "text/plain": [
       "<Figure size 432x288 with 1 Axes>"
      ]
     },
     "metadata": {
      "needs_background": "light"
     },
     "output_type": "display_data"
    }
   ],
   "source": [
    "plt.plot(prediction, 'r', label='prediction')\n",
    "plt.plot(norm_data, 'b', label='real')\n",
    "plt.legend()"
   ]
  },
  {
   "cell_type": "code",
   "execution_count": null,
   "id": "4100f4fe",
   "metadata": {},
   "outputs": [],
   "source": [
    "#country"
   ]
  },
  {
   "cell_type": "code",
   "execution_count": 77,
   "id": "b89b649a",
   "metadata": {},
   "outputs": [],
   "source": [
    "data = pd.read_csv('/Users/William/Desktop/中科院/project/WHO_NREVSS_Clinical_Labs.csv',header=1)"
   ]
  },
  {
   "cell_type": "code",
   "execution_count": 78,
   "id": "c2ba9587",
   "metadata": {},
   "outputs": [
    {
     "data": {
      "text/html": [
       "<div>\n",
       "<style scoped>\n",
       "    .dataframe tbody tr th:only-of-type {\n",
       "        vertical-align: middle;\n",
       "    }\n",
       "\n",
       "    .dataframe tbody tr th {\n",
       "        vertical-align: top;\n",
       "    }\n",
       "\n",
       "    .dataframe thead th {\n",
       "        text-align: right;\n",
       "    }\n",
       "</style>\n",
       "<table border=\"1\" class=\"dataframe\">\n",
       "  <thead>\n",
       "    <tr style=\"text-align: right;\">\n",
       "      <th></th>\n",
       "      <th>REGION</th>\n",
       "      <th>YEAR</th>\n",
       "      <th>WEEK</th>\n",
       "      <th>PERCENT POSITIVE</th>\n",
       "      <th>PERCENT A</th>\n",
       "      <th>PERCENT B</th>\n",
       "    </tr>\n",
       "  </thead>\n",
       "  <tbody>\n",
       "    <tr>\n",
       "      <th>0</th>\n",
       "      <td>Region 1</td>\n",
       "      <td>2015</td>\n",
       "      <td>40</td>\n",
       "      <td>0.721501</td>\n",
       "      <td>0.288600</td>\n",
       "      <td>0.432900</td>\n",
       "    </tr>\n",
       "    <tr>\n",
       "      <th>1</th>\n",
       "      <td>Region 2</td>\n",
       "      <td>2015</td>\n",
       "      <td>40</td>\n",
       "      <td>0.409836</td>\n",
       "      <td>0.409836</td>\n",
       "      <td>0.000000</td>\n",
       "    </tr>\n",
       "    <tr>\n",
       "      <th>2</th>\n",
       "      <td>Region 3</td>\n",
       "      <td>2015</td>\n",
       "      <td>40</td>\n",
       "      <td>0.111607</td>\n",
       "      <td>0.000000</td>\n",
       "      <td>0.111607</td>\n",
       "    </tr>\n",
       "    <tr>\n",
       "      <th>3</th>\n",
       "      <td>Region 4</td>\n",
       "      <td>2015</td>\n",
       "      <td>40</td>\n",
       "      <td>1.609010</td>\n",
       "      <td>0.965406</td>\n",
       "      <td>0.643604</td>\n",
       "    </tr>\n",
       "    <tr>\n",
       "      <th>4</th>\n",
       "      <td>Region 5</td>\n",
       "      <td>2015</td>\n",
       "      <td>40</td>\n",
       "      <td>0.795136</td>\n",
       "      <td>0.654818</td>\n",
       "      <td>0.140318</td>\n",
       "    </tr>\n",
       "    <tr>\n",
       "      <th>...</th>\n",
       "      <td>...</td>\n",
       "      <td>...</td>\n",
       "      <td>...</td>\n",
       "      <td>...</td>\n",
       "      <td>...</td>\n",
       "      <td>...</td>\n",
       "    </tr>\n",
       "    <tr>\n",
       "      <th>1625</th>\n",
       "      <td>Region 6</td>\n",
       "      <td>2018</td>\n",
       "      <td>46</td>\n",
       "      <td>1.020880</td>\n",
       "      <td>0.742459</td>\n",
       "      <td>0.278422</td>\n",
       "    </tr>\n",
       "    <tr>\n",
       "      <th>1626</th>\n",
       "      <td>Region 7</td>\n",
       "      <td>2018</td>\n",
       "      <td>46</td>\n",
       "      <td>0.408163</td>\n",
       "      <td>0.408163</td>\n",
       "      <td>0.000000</td>\n",
       "    </tr>\n",
       "    <tr>\n",
       "      <th>1627</th>\n",
       "      <td>Region 8</td>\n",
       "      <td>2018</td>\n",
       "      <td>46</td>\n",
       "      <td>1.145370</td>\n",
       "      <td>1.057270</td>\n",
       "      <td>0.088106</td>\n",
       "    </tr>\n",
       "    <tr>\n",
       "      <th>1628</th>\n",
       "      <td>Region 9</td>\n",
       "      <td>2018</td>\n",
       "      <td>46</td>\n",
       "      <td>1.484230</td>\n",
       "      <td>1.484230</td>\n",
       "      <td>0.000000</td>\n",
       "    </tr>\n",
       "    <tr>\n",
       "      <th>1629</th>\n",
       "      <td>Region 10</td>\n",
       "      <td>2018</td>\n",
       "      <td>46</td>\n",
       "      <td>1.497010</td>\n",
       "      <td>1.097800</td>\n",
       "      <td>0.399202</td>\n",
       "    </tr>\n",
       "  </tbody>\n",
       "</table>\n",
       "<p>1630 rows × 6 columns</p>\n",
       "</div>"
      ],
      "text/plain": [
       "         REGION  YEAR  WEEK  PERCENT POSITIVE  PERCENT A  PERCENT B\n",
       "0      Region 1  2015    40          0.721501   0.288600   0.432900\n",
       "1      Region 2  2015    40          0.409836   0.409836   0.000000\n",
       "2      Region 3  2015    40          0.111607   0.000000   0.111607\n",
       "3      Region 4  2015    40          1.609010   0.965406   0.643604\n",
       "4      Region 5  2015    40          0.795136   0.654818   0.140318\n",
       "...         ...   ...   ...               ...        ...        ...\n",
       "1625   Region 6  2018    46          1.020880   0.742459   0.278422\n",
       "1626   Region 7  2018    46          0.408163   0.408163   0.000000\n",
       "1627   Region 8  2018    46          1.145370   1.057270   0.088106\n",
       "1628   Region 9  2018    46          1.484230   1.484230   0.000000\n",
       "1629  Region 10  2018    46          1.497010   1.097800   0.399202\n",
       "\n",
       "[1630 rows x 6 columns]"
      ]
     },
     "execution_count": 78,
     "metadata": {},
     "output_type": "execute_result"
    }
   ],
   "source": [
    "data = data.drop(columns=['REGION TYPE','TOTAL SPECIMENS','TOTAL A','TOTAL B'])\n",
    "data"
   ]
  },
  {
   "cell_type": "code",
   "execution_count": 79,
   "id": "a97fac92",
   "metadata": {},
   "outputs": [],
   "source": [
    "data = data.groupby(['YEAR','WEEK']).aggregate('sum')"
   ]
  },
  {
   "cell_type": "code",
   "execution_count": 80,
   "id": "7a5a99b9",
   "metadata": {},
   "outputs": [
    {
     "data": {
      "text/html": [
       "<div>\n",
       "<style scoped>\n",
       "    .dataframe tbody tr th:only-of-type {\n",
       "        vertical-align: middle;\n",
       "    }\n",
       "\n",
       "    .dataframe tbody tr th {\n",
       "        vertical-align: top;\n",
       "    }\n",
       "\n",
       "    .dataframe thead th {\n",
       "        text-align: right;\n",
       "    }\n",
       "</style>\n",
       "<table border=\"1\" class=\"dataframe\">\n",
       "  <thead>\n",
       "    <tr style=\"text-align: right;\">\n",
       "      <th></th>\n",
       "      <th></th>\n",
       "      <th>PERCENT POSITIVE</th>\n",
       "      <th>PERCENT A</th>\n",
       "      <th>PERCENT B</th>\n",
       "    </tr>\n",
       "    <tr>\n",
       "      <th>YEAR</th>\n",
       "      <th>WEEK</th>\n",
       "      <th></th>\n",
       "      <th></th>\n",
       "      <th></th>\n",
       "    </tr>\n",
       "  </thead>\n",
       "  <tbody>\n",
       "    <tr>\n",
       "      <th rowspan=\"5\" valign=\"top\">2015</th>\n",
       "      <th>40</th>\n",
       "      <td>9.234498</td>\n",
       "      <td>6.517381</td>\n",
       "      <td>2.717118</td>\n",
       "    </tr>\n",
       "    <tr>\n",
       "      <th>41</th>\n",
       "      <td>13.059848</td>\n",
       "      <td>9.386714</td>\n",
       "      <td>3.673127</td>\n",
       "    </tr>\n",
       "    <tr>\n",
       "      <th>42</th>\n",
       "      <td>8.860467</td>\n",
       "      <td>5.644058</td>\n",
       "      <td>3.216408</td>\n",
       "    </tr>\n",
       "    <tr>\n",
       "      <th>43</th>\n",
       "      <td>8.312475</td>\n",
       "      <td>5.158315</td>\n",
       "      <td>3.154169</td>\n",
       "    </tr>\n",
       "    <tr>\n",
       "      <th>44</th>\n",
       "      <td>8.402650</td>\n",
       "      <td>4.809326</td>\n",
       "      <td>3.593320</td>\n",
       "    </tr>\n",
       "    <tr>\n",
       "      <th>...</th>\n",
       "      <th>...</th>\n",
       "      <td>...</td>\n",
       "      <td>...</td>\n",
       "      <td>...</td>\n",
       "    </tr>\n",
       "    <tr>\n",
       "      <th rowspan=\"5\" valign=\"top\">2018</th>\n",
       "      <th>42</th>\n",
       "      <td>12.388489</td>\n",
       "      <td>9.347057</td>\n",
       "      <td>3.041430</td>\n",
       "    </tr>\n",
       "    <tr>\n",
       "      <th>43</th>\n",
       "      <td>12.925572</td>\n",
       "      <td>9.930643</td>\n",
       "      <td>2.994929</td>\n",
       "    </tr>\n",
       "    <tr>\n",
       "      <th>44</th>\n",
       "      <td>15.373947</td>\n",
       "      <td>12.090195</td>\n",
       "      <td>3.283745</td>\n",
       "    </tr>\n",
       "    <tr>\n",
       "      <th>45</th>\n",
       "      <td>18.878983</td>\n",
       "      <td>16.054450</td>\n",
       "      <td>2.824532</td>\n",
       "    </tr>\n",
       "    <tr>\n",
       "      <th>46</th>\n",
       "      <td>13.312076</td>\n",
       "      <td>11.279256</td>\n",
       "      <td>2.032809</td>\n",
       "    </tr>\n",
       "  </tbody>\n",
       "</table>\n",
       "<p>163 rows × 3 columns</p>\n",
       "</div>"
      ],
      "text/plain": [
       "           PERCENT POSITIVE  PERCENT A  PERCENT B\n",
       "YEAR WEEK                                        \n",
       "2015 40            9.234498   6.517381   2.717118\n",
       "     41           13.059848   9.386714   3.673127\n",
       "     42            8.860467   5.644058   3.216408\n",
       "     43            8.312475   5.158315   3.154169\n",
       "     44            8.402650   4.809326   3.593320\n",
       "...                     ...        ...        ...\n",
       "2018 42           12.388489   9.347057   3.041430\n",
       "     43           12.925572   9.930643   2.994929\n",
       "     44           15.373947  12.090195   3.283745\n",
       "     45           18.878983  16.054450   2.824532\n",
       "     46           13.312076  11.279256   2.032809\n",
       "\n",
       "[163 rows x 3 columns]"
      ]
     },
     "execution_count": 80,
     "metadata": {},
     "output_type": "execute_result"
    }
   ],
   "source": [
    "data"
   ]
  },
  {
   "cell_type": "code",
   "execution_count": 81,
   "id": "e3d9e025",
   "metadata": {},
   "outputs": [],
   "source": [
    "data = data['PERCENT POSITIVE'].values\n",
    "data = data.astype('float32')"
   ]
  },
  {
   "cell_type": "code",
   "execution_count": 82,
   "id": "a80afa6f",
   "metadata": {},
   "outputs": [],
   "source": [
    "max_num = max(data)\n",
    "norm_data = []\n",
    "for i in data:\n",
    "    i = i/max_num\n",
    "    norm_data.append(i)"
   ]
  },
  {
   "cell_type": "code",
   "execution_count": 83,
   "id": "19e287bc",
   "metadata": {},
   "outputs": [],
   "source": [
    "def dataset(data,lookback=5):\n",
    "    trainx = []\n",
    "    trainy = []\n",
    "    for i in range(0,len(data)-lookback):\n",
    "        trainx.append(data[i:(i+lookback)])\n",
    "        trainy.append(data[i+lookback])\n",
    "    return np.array(trainx) , np.array(trainy)\n",
    "train1, train2 = dataset(norm_data)"
   ]
  },
  {
   "cell_type": "code",
   "execution_count": 84,
   "id": "77ca2f13",
   "metadata": {},
   "outputs": [],
   "source": [
    "from torch.autograd import Variable\n",
    "train_size = int(len(norm_data)*0.8)\n",
    "trainx = train1[:train_size]\n",
    "testx = train1[train_size:]\n",
    "trainy = train2[:train_size]\n",
    "\n",
    "trainx = trainx.reshape(-1,1,5)\n",
    "trainy = trainy.reshape(-1,1,1)\n",
    "trainx = torch.from_numpy(trainx)\n",
    "trainy = torch.from_numpy(trainy)\n",
    "trainx = Variable(trainx)\n",
    "trainy = Variable(trainy)"
   ]
  },
  {
   "cell_type": "code",
   "execution_count": 88,
   "id": "ce3c1f5c",
   "metadata": {},
   "outputs": [],
   "source": [
    "class lstm_country(nn.Module):\n",
    "    def __init__(self, input_size = 5,output_size = 1,hidden_size = 10, num_layers = 4):\n",
    "        super(lstm_country, self).__init__()\n",
    "        self.lstm = nn.LSTM(input_size,hidden_size,num_layers)\n",
    "        self.linear = nn.Linear(hidden_size,output_size)\n",
    "    def forward(self,x):\n",
    "        pred,h=self.lstm(x)\n",
    "        a,b,c=pred.shape\n",
    "        h = pred.view(a*b,c)\n",
    "        out = self.linear(h)\n",
    "        out = out.view(a,b,-1)\n",
    "        return out"
   ]
  },
  {
   "cell_type": "code",
   "execution_count": 89,
   "id": "7541876b",
   "metadata": {},
   "outputs": [],
   "source": [
    "from torch.optim.rmsprop import RMSprop\n",
    "model = lstm_country()\n",
    "optimizer=torch.optim.Adam(model.parameters(), lr=1e-2)\n",
    "criterion = torch.nn.MSELoss()"
   ]
  },
  {
   "cell_type": "code",
   "execution_count": 90,
   "id": "10264778",
   "metadata": {},
   "outputs": [
    {
     "name": "stdout",
     "output_type": "stream",
     "text": [
      "Epoch: 100, Loss: 0.00398\n"
     ]
    }
   ],
   "source": [
    "for i in range(100):\n",
    "    out=model(trainx)\n",
    "    loss = criterion(out, trainy)\n",
    "    optimizer.zero_grad()\n",
    "    loss.backward()\n",
    "    optimizer.step()\n",
    "    if (i+1)%100 == 0 :\n",
    "        print('Epoch: {}, Loss: {:.5f}'.format(i + 1, loss.data))"
   ]
  },
  {
   "cell_type": "code",
   "execution_count": 91,
   "id": "5bfb3344",
   "metadata": {},
   "outputs": [],
   "source": [
    "model=model.eval()"
   ]
  },
  {
   "cell_type": "code",
   "execution_count": 92,
   "id": "316a2aa5",
   "metadata": {},
   "outputs": [],
   "source": [
    "test_data = train1.reshape(-1,1,5)\n",
    "test = torch.from_numpy(test_data)\n",
    "test = Variable(test)\n",
    "pred = model(test)"
   ]
  },
  {
   "cell_type": "code",
   "execution_count": 93,
   "id": "0394b459",
   "metadata": {},
   "outputs": [],
   "source": [
    "pred = pred.view(-1).data.numpy()"
   ]
  },
  {
   "cell_type": "code",
   "execution_count": 95,
   "id": "3a2c7727",
   "metadata": {},
   "outputs": [
    {
     "data": {
      "text/plain": [
       "0.04113003"
      ]
     },
     "execution_count": 95,
     "metadata": {},
     "output_type": "execute_result"
    }
   ],
   "source": [
    "from sklearn.metrics import mean_absolute_error\n",
    "diff = mean_absolute_error(norm_data[5:],pred)\n",
    "diff"
   ]
  },
  {
   "cell_type": "code",
   "execution_count": 96,
   "id": "ae2cc461",
   "metadata": {},
   "outputs": [
    {
     "data": {
      "text/plain": [
       "<matplotlib.legend.Legend at 0x7f841d7a2be0>"
      ]
     },
     "execution_count": 96,
     "metadata": {},
     "output_type": "execute_result"
    },
    {
     "data": {
      "image/png": "[encoded data removed]",
      "text/plain": [
       "<Figure size 432x288 with 1 Axes>"
      ]
     },
     "metadata": {
      "needs_background": "light"
     },
     "output_type": "display_data"
    }
   ],
   "source": [
    "plt.plot(pred,'r',label='prediction')\n",
    "plt.plot(norm_data[5:],'b',label='real')\n",
    "plt.legend()"
   ]
  },
  {
   "cell_type": "code",
   "execution_count": 97,
   "id": "02836af8",
   "metadata": {},
   "outputs": [],
   "source": [
    "class RNN_country(nn.Module):\n",
    "    def __init__(self, input_size = 5,output_size = 1,hidden_size = 10, num_layers = 4):\n",
    "        super(RNN_country, self).__init__()\n",
    "        self.RNN = nn.RNN(input_size,hidden_size,num_layers)\n",
    "        self.linear = nn.Linear(hidden_size,output_size)\n",
    "    def forward(self,x):\n",
    "        pred,h=self.RNN(x)\n",
    "        a,b,c=pred.shape\n",
    "        h = pred.view(a*b,c)\n",
    "        out = self.linear(h)\n",
    "        out = out.view(a,b,-1)\n",
    "        return out"
   ]
  },
  {
   "cell_type": "code",
   "execution_count": 98,
   "id": "018ffe6c",
   "metadata": {},
   "outputs": [],
   "source": [
    "from torch.optim.rmsprop import RMSprop\n",
    "model = lstm_country()\n",
    "optimizer=torch.optim.Adam(model.parameters(), lr=1e-2)\n",
    "criterion = torch.nn.MSELoss()"
   ]
  },
  {
   "cell_type": "code",
   "execution_count": 99,
   "id": "fa375dca",
   "metadata": {},
   "outputs": [
    {
     "name": "stdout",
     "output_type": "stream",
     "text": [
      "Epoch: 100, Loss: 0.00379\n"
     ]
    }
   ],
   "source": [
    "for i in range(100):\n",
    "    out=model(trainx)\n",
    "    loss = criterion(out, trainy)\n",
    "    optimizer.zero_grad()\n",
    "    loss.backward()\n",
    "    optimizer.step()\n",
    "    if (i+1)%100 == 0 :\n",
    "        print('Epoch: {}, Loss: {:.5f}'.format(i + 1, loss.data))"
   ]
  },
  {
   "cell_type": "code",
   "execution_count": 100,
   "id": "0e919f99",
   "metadata": {},
   "outputs": [
    {
     "data": {
      "text/plain": [
       "<matplotlib.legend.Legend at 0x7f841dd94fa0>"
      ]
     },
     "execution_count": 100,
     "metadata": {},
     "output_type": "execute_result"
    },
    {
     "data": {
      "image/png": "[encoded data removed]",
      "text/plain": [
       "<Figure size 432x288 with 1 Axes>"
      ]
     },
     "metadata": {
      "needs_background": "light"
     },
     "output_type": "display_data"
    }
   ],
   "source": [
    "model=model.eval()\n",
    "pred = model(test)\n",
    "pred = pred.view(-1).data.numpy()\n",
    "plt.plot(pred,'r',label='prediction')\n",
    "plt.plot(norm_data[5:],'b',label='real')\n",
    "plt.legend()"
   ]
  },
  {
   "cell_type": "code",
   "execution_count": 101,
   "id": "f4ea232d",
   "metadata": {},
   "outputs": [
    {
     "data": {
      "text/plain": [
       "0.04076178"
      ]
     },
     "execution_count": 101,
     "metadata": {},
     "output_type": "execute_result"
    }
   ],
   "source": [
    "from sklearn.metrics import mean_absolute_error\n",
    "diff = mean_absolute_error(norm_data[5:],pred)\n",
    "diff"
   ]
  },
  {
   "cell_type": "code",
   "execution_count": 102,
   "id": "bdb7a563",
   "metadata": {},
   "outputs": [],
   "source": [
    "class GRU_country(nn.Module):\n",
    "    def __init__(self, input_size = 5,output_size = 1,hidden_size = 10, num_layers = 4):\n",
    "        super(GRU_country, self).__init__()\n",
    "        self.GRU = nn.GRU(input_size,hidden_size,num_layers)\n",
    "        self.linear = nn.Linear(hidden_size,output_size)\n",
    "    def forward(self,x):\n",
    "        pred,h=self.GRU(x)\n",
    "        a,b,c=pred.shape\n",
    "        h = pred.view(a*b,c)\n",
    "        out = self.linear(h)\n",
    "        out = out.view(a,b,-1)\n",
    "        return out"
   ]
  },
  {
   "cell_type": "code",
   "execution_count": 103,
   "id": "544de170",
   "metadata": {},
   "outputs": [],
   "source": [
    "from torch.optim.rmsprop import RMSprop\n",
    "model = lstm_country()\n",
    "optimizer=torch.optim.Adam(model.parameters(), lr=1e-2)\n",
    "criterion = torch.nn.MSELoss()"
   ]
  },
  {
   "cell_type": "code",
   "execution_count": 104,
   "id": "40698920",
   "metadata": {},
   "outputs": [
    {
     "name": "stdout",
     "output_type": "stream",
     "text": [
      "Epoch: 100, Loss: 0.00515\n"
     ]
    }
   ],
   "source": [
    "for i in range(100):\n",
    "    out=model(trainx)\n",
    "    loss = criterion(out, trainy)\n",
    "    optimizer.zero_grad()\n",
    "    loss.backward()\n",
    "    optimizer.step()\n",
    "    if (i+1)%100 == 0 :\n",
    "        print('Epoch: {}, Loss: {:.5f}'.format(i + 1, loss.data))"
   ]
  },
  {
   "cell_type": "code",
   "execution_count": 105,
   "id": "36340963",
   "metadata": {},
   "outputs": [
    {
     "data": {
      "text/plain": [
       "<matplotlib.legend.Legend at 0x7f841dfca580>"
      ]
     },
     "execution_count": 105,
     "metadata": {},
     "output_type": "execute_result"
    },
    {
     "data": {
      "image/png": "[encoded data removed]",
      "text/plain": [
       "<Figure size 432x288 with 1 Axes>"
      ]
     },
     "metadata": {
      "needs_background": "light"
     },
     "output_type": "display_data"
    }
   ],
   "source": [
    "model=model.eval()\n",
    "pred = model(test)\n",
    "pred = pred.view(-1).data.numpy()\n",
    "plt.plot(pred,'r',label='prediction')\n",
    "plt.plot(norm_data[5:],'b',label='real')\n",
    "plt.legend()"
   ]
  },
  {
   "cell_type": "code",
   "execution_count": 106,
   "id": "e8027cf8",
   "metadata": {},
   "outputs": [
    {
     "data": {
      "text/plain": [
       "0.045761228"
      ]
     },
     "execution_count": 106,
     "metadata": {},
     "output_type": "execute_result"
    }
   ],
   "source": [
    "from sklearn.metrics import mean_absolute_error\n",
    "diff = mean_absolute_error(norm_data[5:],pred)\n",
    "diff"
   ]
  },
  {
   "cell_type": "code",
   "execution_count": 6,
   "id": "12b3afaf",
   "metadata": {},
   "outputs": [],
   "source": [
    "plt.plot??"
   ]
  },
  {
   "cell_type": "code",
   "execution_count": 7,
   "id": "2be63fcf",
   "metadata": {},
   "outputs": [
    {
     "data": {
      "text/plain": [
       "(array([1., 0., 0., 0., 0., 1., 4., 2., 1., 1.]),\n",
       " array([0.0324 , 0.03537, 0.03834, 0.04131, 0.04428, 0.04725, 0.05022,\n",
       "        0.05319, 0.05616, 0.05913, 0.0621 ]),\n",
       " <BarContainer object of 10 artists>)"
      ]
     },
     "execution_count": 7,
     "metadata": {},
     "output_type": "execute_result"
    },
    {
     "data": {
      "image/png": "[encoded data removed]",
      "text/plain": [
       "<Figure size 432x288 with 1 Axes>"
      ]
     },
     "metadata": {
      "needs_background": "light"
     },
     "output_type": "display_data"
    }
   ],
   "source": [
    "import matplotlib.pyplot as plt\n",
    "import numpy as np\n",
    "lstm = [0.0324,0.0491,0.0504,0.0536,0.0573,0.0621,0.0529,0.0523,0.0522,0.0535]\n",
    "rnn = [0.0283,0.0303,0.0644,0.0325,0.0550,0.0521,0.0571,0.0340,0.0356,0.0521]\n",
    "gru = [0.0482,0.0486,0.0495,0.0567,0.0577,0.0579,0.0591,0.0568,0.0583,0.0594]\n",
    "x = range(len(lstm))\n",
    "plt.hist(lstm)"
   ]
  },
  {
   "cell_type": "code",
   "execution_count": 33,
   "id": "d6467281",
   "metadata": {},
   "outputs": [],
   "source": [
    "ax.bar??"
   ]
  },
  {
   "cell_type": "code",
   "execution_count": 7,
   "id": "c97311d7",
   "metadata": {},
   "outputs": [
    {
     "data": {
      "text/plain": [
       "1"
      ]
     },
     "execution_count": 7,
     "metadata": {},
     "output_type": "execute_result"
    }
   ],
   "source": [
    "len(labels)"
   ]
  },
  {
   "cell_type": "code",
   "execution_count": 35,
   "id": "d2be9622",
   "metadata": {},
   "outputs": [
    {
     "data": {
      "image/png": "[encoded data removed]",
      "text/plain": [
       "<Figure size 432x288 with 1 Axes>"
      ]
     },
     "metadata": {
      "needs_background": "light"
     },
     "output_type": "display_data"
    }
   ],
   "source": [
    "import matplotlib.pyplot as plt\n",
    "import numpy as np\n",
    "\n",
    "\n",
    "labels = ['1','2','3','4','5','6','7','8','9','10']\n",
    "lstm = [0.0324,0.0491,0.0504,0.0536,0.0573,0.0621,0.0529,0.0523,0.0522,0.0535\n",
    "\n",
    "]\n",
    "rnn = [0.0283,0.0303,0.0644,0.0325,0.0550,0.0521,0.0571,0.0340,0.0356,0.0521\n",
    "]\n",
    "gru = [0.0482,0.0486,0.0495,0.0567,0.0577,0.0579,0.0591,0.0568,0.0583,0.0594]\n",
    "\n",
    "x = [2,4,6,8,10,12,14,16,18,20]\n",
    "x=np.array(x)\n",
    "width = 0.5  # the width of the bars\n",
    "\n",
    "fig, ax = plt.subplots()\n",
    "rects1 = ax.bar(x - width, lstm, width, label='LSTM')\n",
    "rects2 = ax.bar(x + width, rnn, width, label='RNN')\n",
    "rects3 = ax.bar(x , gru, width, label='GRU')\n",
    "\n",
    "# Add some text for labels, title and custom x-axis tick labels, etc.\n",
    "ax.set_ylabel('MAE value')\n",
    "ax.set_title('MAE(Region)')\n",
    "ax.set_xticks(x)\n",
    "ax.set_xticklabels(labels)\n",
    "ax.set_xlabel('Region')\n",
    "ax.legend()\n",
    "\n",
    "\n",
    "\n",
    "fig.tight_layout()\n",
    "plt.savefig('books_read.png',dpi=300)\n",
    "plt.show()"
   ]
  },
  {
   "cell_type": "code",
   "execution_count": 13,
   "id": "ccc906a5",
   "metadata": {},
   "outputs": [],
   "source": [
    "ax.set_xticklabels??"
   ]
  },
  {
   "cell_type": "code",
   "execution_count": 30,
   "id": "d2e8a80c",
   "metadata": {},
   "outputs": [
    {
     "data": {
      "image/png": "[encoded data removed]",
      "text/plain": [
       "<Figure size 432x288 with 1 Axes>"
      ]
     },
     "metadata": {
      "needs_background": "light"
     },
     "output_type": "display_data"
    }
   ],
   "source": [
    "import matplotlib.pyplot as plt\n",
    "import numpy as np\n",
    "\n",
    "\n",
    "labels = ['G1', 'G2', 'G3', 'G4', 'G5']\n",
    "men_means = [20, 34, 30, 35, 27]\n",
    "women_means = [25, 32, 34, 20, 25]\n",
    "\n",
    "x = np.arange(len(labels))  # the label locations\n",
    "width = 0.35  # the width of the bars\n",
    "\n",
    "fig, ax = plt.subplots()\n",
    "rects1 = ax.bar(x - width/2, men_means, width, label='Men')\n",
    "rects2 = ax.bar(x + width/2, women_means, width, label='Women')\n",
    "\n",
    "# Add some text for labels, title and custom x-axis tick labels, etc.\n",
    "ax.set_ylabel('Scores')\n",
    "ax.set_title('Scores by group and gender')\n",
    "ax.set_xticks(x)\n",
    "ax.set_xticklabels(labels)\n",
    "ax.legend()\n",
    "\n",
    "ax.bar_label(rects1, padding=3)\n",
    "ax.bar_label(rects2, padding=3)\n",
    "\n",
    "fig.tight_layout()\n",
    "\n",
    "plt.show()"
   ]
  },
  {
   "cell_type": "code",
   "execution_count": null,
   "id": "fda56817",
   "metadata": {},
   "outputs": [],
   "source": []
  }
 ],
 "metadata": {
  "kernelspec": {
   "display_name": "Python 3",
   "language": "python",
   "name": "python3"
  },
  "language_info": {
   "codemirror_mode": {
    "name": "ipython",
    "version": 3
   },
   "file_extension": ".py",
   "mimetype": "text/x-python",
   "name": "python",
   "nbconvert_exporter": "python",
   "pygments_lexer": "ipython3",
   "version": "3.8.8"
  }
 },
 "nbformat": 4,
 "nbformat_minor": 5
}
